{
 "cells": [
  {
   "cell_type": "code",
   "execution_count": 4,
   "metadata": {},
   "outputs": [],
   "source": [
    "#IPython magic to reload libraries\n",
    "%load_ext autoreload\n",
    "%autoreload 2\n",
    "\n",
    "# Extra code so Juypter doesn't crash on mac os\n",
    "import os\n",
    "os.environ['KMP_DUPLICATE_LIB_OK']='True'"
   ]
  },
  {
   "cell_type": "code",
   "execution_count": 5,
   "metadata": {},
   "outputs": [],
   "source": [
    "import sys\n",
    "sys.path.insert(0, 'utils')  # noqa\n",
    "\n",
    "import tasks\n",
    "import ntm\n",
    "import interfaces"
   ]
  },
  {
   "cell_type": "code",
   "execution_count": 27,
   "metadata": {},
   "outputs": [],
   "source": [
    "# Training Params\n",
    "train_iter = 5\n",
    "batch_size = 2\n",
    "\n",
    "# Task Params\n",
    "max_epsiode_length = 100\n"
   ]
  },
  {
   "cell_type": "code",
   "execution_count": 28,
   "metadata": {},
   "outputs": [],
   "source": [
    "Task = tasks.Copy(string_len=5, max_char=5, max_step=100)\n",
    "Controller = ntm.NTM()"
   ]
  },
  {
   "cell_type": "code",
   "execution_count": 29,
   "metadata": {},
   "outputs": [],
   "source": [
    "#Define interfaces\n",
    "\n"
   ]
  },
  {
   "cell_type": "code",
   "execution_count": 30,
   "metadata": {},
   "outputs": [
    {
     "name": "stdout",
     "output_type": "stream",
     "text": [
      "Input Tape:  ECBBC\n",
      "Output Tape:       \n",
      "Target Tape:  ECBBC\n",
      "Input Tape:  DBBBD\n",
      "Output Tape:       \n",
      "Target Tape:  DBBBD\n",
      "Input Tape:  EBADB\n",
      "Output Tape:       \n",
      "Target Tape:  EBADB\n",
      "Input Tape:  DAACA\n",
      "Output Tape:       \n",
      "Target Tape:  DAACA\n",
      "Input Tape:  EDDEE\n",
      "Output Tape:       \n",
      "Target Tape:  EDDEE\n",
      "Input Tape:  CAACA\n",
      "Output Tape:       \n",
      "Target Tape:  CAACA\n",
      "Input Tape:  DEBDC\n",
      "Output Tape:       \n",
      "Target Tape:  DEBDC\n",
      "Input Tape:  EBDAB\n",
      "Output Tape:       \n",
      "Target Tape:  EBDAB\n",
      "Input Tape:  ADECD\n",
      "Output Tape:       \n",
      "Target Tape:  ADECD\n",
      "Input Tape:  CEEEE\n",
      "Output Tape:       \n",
      "Target Tape:  CEEEE\n"
     ]
    }
   ],
   "source": [
    "memory_content = 0\n",
    "\n",
    "for i in range(train_iter):\n",
    "    \n",
    "    # Collect experince using current policy/controller\n",
    "    for j in range(batch_size):\n",
    "        episode_steps = 0\n",
    "        observation, reward, target, done, info = Task.reset()\n",
    "        Task.render()\n",
    "\n",
    "        while True:\n",
    "            episode_steps += 1\n",
    "            \n",
    "            inputs = (observation, memory_content)\n",
    "            \n",
    "            Controller.input(inputs)\n",
    "            outputs = Controller.output()\n",
    "            \n",
    "            input_control = outputs[0]  \n",
    "            memory_control = outputs[1]\n",
    "            memory_content = outputs[2]\n",
    "            output_control = outputs[3]\n",
    "            output_content = outputs[4]\n",
    "\n",
    "            actions = (input_control, output_control, output_content)\n",
    "            observation, reward, target, done, info = Task.step(actions)\n",
    "            \n",
    "            if done:\n",
    "                done = False\n",
    "                break\n",
    "        "
   ]
  },
  {
   "cell_type": "code",
   "execution_count": null,
   "metadata": {},
   "outputs": [],
   "source": []
  }
 ],
 "metadata": {
  "kernelspec": {
   "display_name": "Python 3",
   "language": "python",
   "name": "python3"
  },
  "language_info": {
   "codemirror_mode": {
    "name": "ipython",
    "version": 3
   },
   "file_extension": ".py",
   "mimetype": "text/x-python",
   "name": "python",
   "nbconvert_exporter": "python",
   "pygments_lexer": "ipython3",
   "version": "3.7.5"
  }
 },
 "nbformat": 4,
 "nbformat_minor": 2
}
