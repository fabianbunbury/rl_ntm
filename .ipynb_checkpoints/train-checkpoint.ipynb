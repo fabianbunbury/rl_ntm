{
 "cells": [
  {
   "cell_type": "code",
   "execution_count": 4,
   "metadata": {},
   "outputs": [],
   "source": [
    "#IPython magic to reload libraries\n",
    "%load_ext autoreload\n",
    "%autoreload 2\n",
    "\n",
    "# Extra code so Juypter doesn't crash on mac os\n",
    "import os\n",
    "os.environ['KMP_DUPLICATE_LIB_OK']='True'"
   ]
  },
  {
   "cell_type": "code",
   "execution_count": 5,
   "metadata": {},
   "outputs": [],
   "source": [
    "import sys\n",
    "sys.path.insert(0, 'utils')  # noqa\n",
    "\n",
    "import tasks\n",
    "import ntm\n",
    "import interfaces"
   ]
  },
  {
   "cell_type": "code",
   "execution_count": 6,
   "metadata": {},
   "outputs": [],
   "source": [
    "# Training Params\n",
    "train_iter = 10\n",
    "batch_size = 10\n",
    "\n",
    "# Task Params\n",
    "max_epsiode_length = 100\n",
    "\n",
    "# Define Rewards\n",
    "correct_output_reward = 1\n",
    "no_action_reward = 0\n",
    "incorrect_output_reward = -1"
   ]
  },
  {
   "cell_type": "code",
   "execution_count": 10,
   "metadata": {},
   "outputs": [],
   "source": [
    "Task = tasks.Copy()\n",
    "Controller = ntm.NTM()"
   ]
  },
  {
   "cell_type": "code",
   "execution_count": null,
   "metadata": {},
   "outputs": [],
   "source": [
    "#Define interfaces\n",
    "\n"
   ]
  },
  {
   "cell_type": "code",
   "execution_count": 9,
   "metadata": {},
   "outputs": [
    {
     "name": "stdout",
     "output_type": "stream",
     "text": [
      "Input Tape:  BEEEE\n",
      "Output Tape:       \n",
      "Target Tape:  BEEEE\n",
      "Input Tape:  CBAAB\n",
      "Output Tape:       \n",
      "Target Tape:  CBAAB\n",
      "Input Tape:  CABDC\n",
      "Output Tape:       \n",
      "Target Tape:  CABDC\n",
      "Input Tape:  CCDDE\n",
      "Output Tape:       \n",
      "Target Tape:  CCDDE\n",
      "Input Tape:  EBADC\n",
      "Output Tape:       \n",
      "Target Tape:  EBADC\n",
      "Input Tape:  ACEBB\n",
      "Output Tape:       \n",
      "Target Tape:  ACEBB\n",
      "Input Tape:  EDCBA\n",
      "Output Tape:       \n",
      "Target Tape:  EDCBA\n",
      "Input Tape:  CCDDE\n",
      "Output Tape:       \n",
      "Target Tape:  CCDDE\n",
      "Input Tape:  BECAA\n",
      "Output Tape:       \n",
      "Target Tape:  BECAA\n",
      "Input Tape:  ADDDD\n",
      "Output Tape:       \n",
      "Target Tape:  ADDDD\n"
     ]
    }
   ],
   "source": [
    "\n",
    "observation, reward, target, done, info = Task.reset()\n",
    "memory_content = 0\n",
    "\n",
    "for i in range(train_iter):\n",
    "    # Collect experince using current policy/controller\n",
    "    for j in range(batch_size):\n",
    "        \n",
    "        inputs = (observation, memory_content)\n",
    "        Controller.input(inputs)\n",
    "        outputs = Controller.output()\n",
    "        input_control = outputs[0]  \n",
    "        memory_control = outputs[1]\n",
    "        memory_content = outputs[2]\n",
    "        output_control = outputs[3]\n",
    "        output_content = outputs[4]\n",
    "        \n",
    "        actions = (input_control, output_control, output_content)\n",
    "        Task.step(actions)\n",
    "    Task.reset()\n",
    "    Task.render()\n",
    "    \n",
    "    Controller.input()"
   ]
  }
 ],
 "metadata": {
  "kernelspec": {
   "display_name": "Python 3",
   "language": "python",
   "name": "python3"
  },
  "language_info": {
   "codemirror_mode": {
    "name": "ipython",
    "version": 3
   },
   "file_extension": ".py",
   "mimetype": "text/x-python",
   "name": "python",
   "nbconvert_exporter": "python",
   "pygments_lexer": "ipython3",
   "version": "3.7.5"
  }
 },
 "nbformat": 4,
 "nbformat_minor": 2
}
